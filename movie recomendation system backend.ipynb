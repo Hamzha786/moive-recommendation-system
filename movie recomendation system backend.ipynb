{
 "cells": [
  {
   "cell_type": "code",
   "execution_count": 4,
   "id": "895e76ed",
   "metadata": {},
   "outputs": [],
   "source": [
    "import pandas as pd"
   ]
  },
  {
   "cell_type": "code",
   "execution_count": 5,
   "id": "5dfc0722",
   "metadata": {},
   "outputs": [],
   "source": [
    "movie_data = pd.read_csv('tmdb_5000_movies.csv')"
   ]
  },
  {
   "cell_type": "code",
   "execution_count": 6,
   "id": "d808e0b5",
   "metadata": {},
   "outputs": [],
   "source": [
    "\n",
    "X = movie_data.drop(columns =['budget','homepage','original_language','production_countries',\n",
    "                              'production_companies', 'status','tagline','runtime','keywords'])\n",
    "\n"
   ]
  },
  {
   "cell_type": "code",
   "execution_count": 7,
   "id": "8c0bb1e0",
   "metadata": {},
   "outputs": [
    {
     "name": "stdout",
     "output_type": "stream",
     "text": [
      "the original dataset: ['budget', 'genres', 'homepage', 'id', 'keywords', 'original_language', 'original_title', 'overview', 'popularity', 'production_companies', 'production_countries', 'release_date', 'revenue', 'runtime', 'spoken_languages', 'status', 'tagline', 'title', 'vote_average', 'vote_count']\n"
     ]
    }
   ],
   "source": [
    "print('the original dataset:',list(movie_data.columns.values))"
   ]
  },
  {
   "cell_type": "code",
   "execution_count": 8,
   "id": "d29c41e7",
   "metadata": {},
   "outputs": [
    {
     "name": "stdout",
     "output_type": "stream",
     "text": [
      "After processing and removing column:  \n"
     ]
    }
   ],
   "source": [
    "print(\"After processing and removing column:  \")"
   ]
  },
  {
   "cell_type": "code",
   "execution_count": 9,
   "id": "bcd7503f",
   "metadata": {},
   "outputs": [
    {
     "name": "stdout",
     "output_type": "stream",
     "text": [
      "['genres', 'id', 'original_title', 'overview', 'popularity', 'release_date', 'revenue', 'spoken_languages', 'title', 'vote_average', 'vote_count']\n"
     ]
    }
   ],
   "source": [
    "print(list(X.columns.values))"
   ]
  },
  {
   "cell_type": "code",
   "execution_count": 10,
   "id": "f1a6c7cf",
   "metadata": {},
   "outputs": [
    {
     "name": "stdout",
     "output_type": "stream",
     "text": [
      "<class 'pandas.core.frame.DataFrame'>\n",
      "RangeIndex: 4803 entries, 0 to 4802\n",
      "Data columns (total 11 columns):\n",
      " #   Column            Non-Null Count  Dtype  \n",
      "---  ------            --------------  -----  \n",
      " 0   genres            4803 non-null   object \n",
      " 1   id                4803 non-null   int64  \n",
      " 2   original_title    4803 non-null   object \n",
      " 3   overview          4800 non-null   object \n",
      " 4   popularity        4803 non-null   float64\n",
      " 5   release_date      4802 non-null   object \n",
      " 6   revenue           4803 non-null   int64  \n",
      " 7   spoken_languages  4803 non-null   object \n",
      " 8   title             4803 non-null   object \n",
      " 9   vote_average      4803 non-null   float64\n",
      " 10  vote_count        4803 non-null   int64  \n",
      "dtypes: float64(2), int64(3), object(6)\n",
      "memory usage: 412.9+ KB\n",
      "None\n"
     ]
    }
   ],
   "source": [
    "print(X.info())"
   ]
  },
  {
   "cell_type": "code",
   "execution_count": 11,
   "id": "975e55a1",
   "metadata": {},
   "outputs": [
    {
     "data": {
      "text/plain": [
       "genres              0\n",
       "id                  0\n",
       "original_title      0\n",
       "overview            3\n",
       "popularity          0\n",
       "release_date        1\n",
       "revenue             0\n",
       "spoken_languages    0\n",
       "title               0\n",
       "vote_average        0\n",
       "vote_count          0\n",
       "dtype: int64"
      ]
     },
     "execution_count": 11,
     "metadata": {},
     "output_type": "execute_result"
    }
   ],
   "source": [
    "X.isnull().sum()"
   ]
  },
  {
   "cell_type": "code",
   "execution_count": 12,
   "id": "4d83b474",
   "metadata": {},
   "outputs": [
    {
     "data": {
      "text/plain": [
       "4"
      ]
     },
     "execution_count": 12,
     "metadata": {},
     "output_type": "execute_result"
    }
   ],
   "source": [
    "X.isnull().sum(axis=1).sum()"
   ]
  },
  {
   "cell_type": "code",
   "execution_count": 13,
   "id": "46bec4a4",
   "metadata": {},
   "outputs": [],
   "source": [
    "X2=X.fillna(value = 0)"
   ]
  },
  {
   "cell_type": "code",
   "execution_count": 14,
   "id": "1ce13c82",
   "metadata": {},
   "outputs": [
    {
     "data": {
      "text/plain": [
       "0"
      ]
     },
     "execution_count": 14,
     "metadata": {},
     "output_type": "execute_result"
    }
   ],
   "source": [
    "X2.isnull().sum(axis=1).sum()"
   ]
  },
  {
   "cell_type": "code",
   "execution_count": 15,
   "id": "1b4e4820",
   "metadata": {},
   "outputs": [],
   "source": [
    "import re"
   ]
  },
  {
   "cell_type": "code",
   "execution_count": 16,
   "id": "4bf6a36b",
   "metadata": {},
   "outputs": [],
   "source": [
    "def clean_title(title):\n",
    "    return re.sub(\"[^a-zA-Z0-9 ]\",\"\",title)\n"
   ]
  },
  {
   "cell_type": "code",
   "execution_count": 17,
   "id": "3bac9f39",
   "metadata": {},
   "outputs": [],
   "source": [
    "X2[\"clean_title\"]= X2[\"title\"].apply(clean_title)"
   ]
  },
  {
   "cell_type": "code",
   "execution_count": 18,
   "id": "4dc49be5",
   "metadata": {},
   "outputs": [
    {
     "data": {
      "text/html": [
       "<div>\n",
       "<style scoped>\n",
       "    .dataframe tbody tr th:only-of-type {\n",
       "        vertical-align: middle;\n",
       "    }\n",
       "\n",
       "    .dataframe tbody tr th {\n",
       "        vertical-align: top;\n",
       "    }\n",
       "\n",
       "    .dataframe thead th {\n",
       "        text-align: right;\n",
       "    }\n",
       "</style>\n",
       "<table border=\"1\" class=\"dataframe\">\n",
       "  <thead>\n",
       "    <tr style=\"text-align: right;\">\n",
       "      <th></th>\n",
       "      <th>genres</th>\n",
       "      <th>id</th>\n",
       "      <th>original_title</th>\n",
       "      <th>overview</th>\n",
       "      <th>popularity</th>\n",
       "      <th>release_date</th>\n",
       "      <th>revenue</th>\n",
       "      <th>spoken_languages</th>\n",
       "      <th>title</th>\n",
       "      <th>vote_average</th>\n",
       "      <th>vote_count</th>\n",
       "      <th>clean_title</th>\n",
       "    </tr>\n",
       "  </thead>\n",
       "  <tbody>\n",
       "    <tr>\n",
       "      <th>0</th>\n",
       "      <td>[{\"id\": 28, \"name\": \"Action\"}, {\"id\": 12, \"nam...</td>\n",
       "      <td>19995</td>\n",
       "      <td>Avatar</td>\n",
       "      <td>In the 22nd century, a paraplegic Marine is di...</td>\n",
       "      <td>150.437577</td>\n",
       "      <td>2009-12-10</td>\n",
       "      <td>2787965087</td>\n",
       "      <td>[{\"iso_639_1\": \"en\", \"name\": \"English\"}, {\"iso...</td>\n",
       "      <td>Avatar</td>\n",
       "      <td>7.2</td>\n",
       "      <td>11800</td>\n",
       "      <td>Avatar</td>\n",
       "    </tr>\n",
       "    <tr>\n",
       "      <th>1</th>\n",
       "      <td>[{\"id\": 12, \"name\": \"Adventure\"}, {\"id\": 14, \"...</td>\n",
       "      <td>285</td>\n",
       "      <td>Pirates of the Caribbean: At World's End</td>\n",
       "      <td>Captain Barbossa, long believed to be dead, ha...</td>\n",
       "      <td>139.082615</td>\n",
       "      <td>2007-05-19</td>\n",
       "      <td>961000000</td>\n",
       "      <td>[{\"iso_639_1\": \"en\", \"name\": \"English\"}]</td>\n",
       "      <td>Pirates of the Caribbean: At World's End</td>\n",
       "      <td>6.9</td>\n",
       "      <td>4500</td>\n",
       "      <td>Pirates of the Caribbean At Worlds End</td>\n",
       "    </tr>\n",
       "    <tr>\n",
       "      <th>2</th>\n",
       "      <td>[{\"id\": 28, \"name\": \"Action\"}, {\"id\": 12, \"nam...</td>\n",
       "      <td>206647</td>\n",
       "      <td>Spectre</td>\n",
       "      <td>A cryptic message from Bond’s past sends him o...</td>\n",
       "      <td>107.376788</td>\n",
       "      <td>2015-10-26</td>\n",
       "      <td>880674609</td>\n",
       "      <td>[{\"iso_639_1\": \"fr\", \"name\": \"Fran\\u00e7ais\"},...</td>\n",
       "      <td>Spectre</td>\n",
       "      <td>6.3</td>\n",
       "      <td>4466</td>\n",
       "      <td>Spectre</td>\n",
       "    </tr>\n",
       "    <tr>\n",
       "      <th>3</th>\n",
       "      <td>[{\"id\": 28, \"name\": \"Action\"}, {\"id\": 80, \"nam...</td>\n",
       "      <td>49026</td>\n",
       "      <td>The Dark Knight Rises</td>\n",
       "      <td>Following the death of District Attorney Harve...</td>\n",
       "      <td>112.312950</td>\n",
       "      <td>2012-07-16</td>\n",
       "      <td>1084939099</td>\n",
       "      <td>[{\"iso_639_1\": \"en\", \"name\": \"English\"}]</td>\n",
       "      <td>The Dark Knight Rises</td>\n",
       "      <td>7.6</td>\n",
       "      <td>9106</td>\n",
       "      <td>The Dark Knight Rises</td>\n",
       "    </tr>\n",
       "    <tr>\n",
       "      <th>4</th>\n",
       "      <td>[{\"id\": 28, \"name\": \"Action\"}, {\"id\": 12, \"nam...</td>\n",
       "      <td>49529</td>\n",
       "      <td>John Carter</td>\n",
       "      <td>John Carter is a war-weary, former military ca...</td>\n",
       "      <td>43.926995</td>\n",
       "      <td>2012-03-07</td>\n",
       "      <td>284139100</td>\n",
       "      <td>[{\"iso_639_1\": \"en\", \"name\": \"English\"}]</td>\n",
       "      <td>John Carter</td>\n",
       "      <td>6.1</td>\n",
       "      <td>2124</td>\n",
       "      <td>John Carter</td>\n",
       "    </tr>\n",
       "    <tr>\n",
       "      <th>...</th>\n",
       "      <td>...</td>\n",
       "      <td>...</td>\n",
       "      <td>...</td>\n",
       "      <td>...</td>\n",
       "      <td>...</td>\n",
       "      <td>...</td>\n",
       "      <td>...</td>\n",
       "      <td>...</td>\n",
       "      <td>...</td>\n",
       "      <td>...</td>\n",
       "      <td>...</td>\n",
       "      <td>...</td>\n",
       "    </tr>\n",
       "    <tr>\n",
       "      <th>4798</th>\n",
       "      <td>[{\"id\": 28, \"name\": \"Action\"}, {\"id\": 80, \"nam...</td>\n",
       "      <td>9367</td>\n",
       "      <td>El Mariachi</td>\n",
       "      <td>El Mariachi just wants to play his guitar and ...</td>\n",
       "      <td>14.269792</td>\n",
       "      <td>1992-09-04</td>\n",
       "      <td>2040920</td>\n",
       "      <td>[{\"iso_639_1\": \"es\", \"name\": \"Espa\\u00f1ol\"}]</td>\n",
       "      <td>El Mariachi</td>\n",
       "      <td>6.6</td>\n",
       "      <td>238</td>\n",
       "      <td>El Mariachi</td>\n",
       "    </tr>\n",
       "    <tr>\n",
       "      <th>4799</th>\n",
       "      <td>[{\"id\": 35, \"name\": \"Comedy\"}, {\"id\": 10749, \"...</td>\n",
       "      <td>72766</td>\n",
       "      <td>Newlyweds</td>\n",
       "      <td>A newlywed couple's honeymoon is upended by th...</td>\n",
       "      <td>0.642552</td>\n",
       "      <td>2011-12-26</td>\n",
       "      <td>0</td>\n",
       "      <td>[]</td>\n",
       "      <td>Newlyweds</td>\n",
       "      <td>5.9</td>\n",
       "      <td>5</td>\n",
       "      <td>Newlyweds</td>\n",
       "    </tr>\n",
       "    <tr>\n",
       "      <th>4800</th>\n",
       "      <td>[{\"id\": 35, \"name\": \"Comedy\"}, {\"id\": 18, \"nam...</td>\n",
       "      <td>231617</td>\n",
       "      <td>Signed, Sealed, Delivered</td>\n",
       "      <td>\"Signed, Sealed, Delivered\" introduces a dedic...</td>\n",
       "      <td>1.444476</td>\n",
       "      <td>2013-10-13</td>\n",
       "      <td>0</td>\n",
       "      <td>[{\"iso_639_1\": \"en\", \"name\": \"English\"}]</td>\n",
       "      <td>Signed, Sealed, Delivered</td>\n",
       "      <td>7.0</td>\n",
       "      <td>6</td>\n",
       "      <td>Signed Sealed Delivered</td>\n",
       "    </tr>\n",
       "    <tr>\n",
       "      <th>4801</th>\n",
       "      <td>[]</td>\n",
       "      <td>126186</td>\n",
       "      <td>Shanghai Calling</td>\n",
       "      <td>When ambitious New York attorney Sam is sent t...</td>\n",
       "      <td>0.857008</td>\n",
       "      <td>2012-05-03</td>\n",
       "      <td>0</td>\n",
       "      <td>[{\"iso_639_1\": \"en\", \"name\": \"English\"}]</td>\n",
       "      <td>Shanghai Calling</td>\n",
       "      <td>5.7</td>\n",
       "      <td>7</td>\n",
       "      <td>Shanghai Calling</td>\n",
       "    </tr>\n",
       "    <tr>\n",
       "      <th>4802</th>\n",
       "      <td>[{\"id\": 99, \"name\": \"Documentary\"}]</td>\n",
       "      <td>25975</td>\n",
       "      <td>My Date with Drew</td>\n",
       "      <td>Ever since the second grade when he first saw ...</td>\n",
       "      <td>1.929883</td>\n",
       "      <td>2005-08-05</td>\n",
       "      <td>0</td>\n",
       "      <td>[{\"iso_639_1\": \"en\", \"name\": \"English\"}]</td>\n",
       "      <td>My Date with Drew</td>\n",
       "      <td>6.3</td>\n",
       "      <td>16</td>\n",
       "      <td>My Date with Drew</td>\n",
       "    </tr>\n",
       "  </tbody>\n",
       "</table>\n",
       "<p>4803 rows × 12 columns</p>\n",
       "</div>"
      ],
      "text/plain": [
       "                                                 genres      id   \n",
       "0     [{\"id\": 28, \"name\": \"Action\"}, {\"id\": 12, \"nam...   19995  \\\n",
       "1     [{\"id\": 12, \"name\": \"Adventure\"}, {\"id\": 14, \"...     285   \n",
       "2     [{\"id\": 28, \"name\": \"Action\"}, {\"id\": 12, \"nam...  206647   \n",
       "3     [{\"id\": 28, \"name\": \"Action\"}, {\"id\": 80, \"nam...   49026   \n",
       "4     [{\"id\": 28, \"name\": \"Action\"}, {\"id\": 12, \"nam...   49529   \n",
       "...                                                 ...     ...   \n",
       "4798  [{\"id\": 28, \"name\": \"Action\"}, {\"id\": 80, \"nam...    9367   \n",
       "4799  [{\"id\": 35, \"name\": \"Comedy\"}, {\"id\": 10749, \"...   72766   \n",
       "4800  [{\"id\": 35, \"name\": \"Comedy\"}, {\"id\": 18, \"nam...  231617   \n",
       "4801                                                 []  126186   \n",
       "4802                [{\"id\": 99, \"name\": \"Documentary\"}]   25975   \n",
       "\n",
       "                                original_title   \n",
       "0                                       Avatar  \\\n",
       "1     Pirates of the Caribbean: At World's End   \n",
       "2                                      Spectre   \n",
       "3                        The Dark Knight Rises   \n",
       "4                                  John Carter   \n",
       "...                                        ...   \n",
       "4798                               El Mariachi   \n",
       "4799                                 Newlyweds   \n",
       "4800                 Signed, Sealed, Delivered   \n",
       "4801                          Shanghai Calling   \n",
       "4802                         My Date with Drew   \n",
       "\n",
       "                                               overview  popularity   \n",
       "0     In the 22nd century, a paraplegic Marine is di...  150.437577  \\\n",
       "1     Captain Barbossa, long believed to be dead, ha...  139.082615   \n",
       "2     A cryptic message from Bond’s past sends him o...  107.376788   \n",
       "3     Following the death of District Attorney Harve...  112.312950   \n",
       "4     John Carter is a war-weary, former military ca...   43.926995   \n",
       "...                                                 ...         ...   \n",
       "4798  El Mariachi just wants to play his guitar and ...   14.269792   \n",
       "4799  A newlywed couple's honeymoon is upended by th...    0.642552   \n",
       "4800  \"Signed, Sealed, Delivered\" introduces a dedic...    1.444476   \n",
       "4801  When ambitious New York attorney Sam is sent t...    0.857008   \n",
       "4802  Ever since the second grade when he first saw ...    1.929883   \n",
       "\n",
       "     release_date     revenue   \n",
       "0      2009-12-10  2787965087  \\\n",
       "1      2007-05-19   961000000   \n",
       "2      2015-10-26   880674609   \n",
       "3      2012-07-16  1084939099   \n",
       "4      2012-03-07   284139100   \n",
       "...           ...         ...   \n",
       "4798   1992-09-04     2040920   \n",
       "4799   2011-12-26           0   \n",
       "4800   2013-10-13           0   \n",
       "4801   2012-05-03           0   \n",
       "4802   2005-08-05           0   \n",
       "\n",
       "                                       spoken_languages   \n",
       "0     [{\"iso_639_1\": \"en\", \"name\": \"English\"}, {\"iso...  \\\n",
       "1              [{\"iso_639_1\": \"en\", \"name\": \"English\"}]   \n",
       "2     [{\"iso_639_1\": \"fr\", \"name\": \"Fran\\u00e7ais\"},...   \n",
       "3              [{\"iso_639_1\": \"en\", \"name\": \"English\"}]   \n",
       "4              [{\"iso_639_1\": \"en\", \"name\": \"English\"}]   \n",
       "...                                                 ...   \n",
       "4798      [{\"iso_639_1\": \"es\", \"name\": \"Espa\\u00f1ol\"}]   \n",
       "4799                                                 []   \n",
       "4800           [{\"iso_639_1\": \"en\", \"name\": \"English\"}]   \n",
       "4801           [{\"iso_639_1\": \"en\", \"name\": \"English\"}]   \n",
       "4802           [{\"iso_639_1\": \"en\", \"name\": \"English\"}]   \n",
       "\n",
       "                                         title  vote_average  vote_count   \n",
       "0                                       Avatar           7.2       11800  \\\n",
       "1     Pirates of the Caribbean: At World's End           6.9        4500   \n",
       "2                                      Spectre           6.3        4466   \n",
       "3                        The Dark Knight Rises           7.6        9106   \n",
       "4                                  John Carter           6.1        2124   \n",
       "...                                        ...           ...         ...   \n",
       "4798                               El Mariachi           6.6         238   \n",
       "4799                                 Newlyweds           5.9           5   \n",
       "4800                 Signed, Sealed, Delivered           7.0           6   \n",
       "4801                          Shanghai Calling           5.7           7   \n",
       "4802                         My Date with Drew           6.3          16   \n",
       "\n",
       "                                 clean_title  \n",
       "0                                     Avatar  \n",
       "1     Pirates of the Caribbean At Worlds End  \n",
       "2                                    Spectre  \n",
       "3                      The Dark Knight Rises  \n",
       "4                                John Carter  \n",
       "...                                      ...  \n",
       "4798                             El Mariachi  \n",
       "4799                               Newlyweds  \n",
       "4800                 Signed Sealed Delivered  \n",
       "4801                        Shanghai Calling  \n",
       "4802                       My Date with Drew  \n",
       "\n",
       "[4803 rows x 12 columns]"
      ]
     },
     "execution_count": 18,
     "metadata": {},
     "output_type": "execute_result"
    }
   ],
   "source": [
    "X2"
   ]
  },
  {
   "cell_type": "code",
   "execution_count": 19,
   "id": "7a27e848",
   "metadata": {},
   "outputs": [],
   "source": [
    "from sklearn.feature_extraction.text import TfidfVectorizer"
   ]
  },
  {
   "cell_type": "code",
   "execution_count": 20,
   "id": "2f11cbab",
   "metadata": {},
   "outputs": [],
   "source": [
    "vectorizer = TfidfVectorizer(ngram_range=(1,2))\n"
   ]
  },
  {
   "cell_type": "code",
   "execution_count": 21,
   "id": "1e26a034",
   "metadata": {},
   "outputs": [],
   "source": [
    "tfidf = vectorizer.fit_transform(X2[\"clean_title\"])"
   ]
  },
  {
   "cell_type": "code",
   "execution_count": 22,
   "id": "45ec5e4a",
   "metadata": {},
   "outputs": [
    {
     "data": {
      "text/plain": [
       "<4803x11041 sparse matrix of type '<class 'numpy.float64'>'\n",
       "\twith 20711 stored elements in Compressed Sparse Row format>"
      ]
     },
     "execution_count": 22,
     "metadata": {},
     "output_type": "execute_result"
    }
   ],
   "source": [
    "tfidf"
   ]
  },
  {
   "cell_type": "code",
   "execution_count": 23,
   "id": "19c73455",
   "metadata": {},
   "outputs": [],
   "source": [
    "from sklearn.metrics.pairwise import cosine_similarity"
   ]
  },
  {
   "cell_type": "code",
   "execution_count": 24,
   "id": "c2aea402",
   "metadata": {},
   "outputs": [],
   "source": [
    "import numpy as np"
   ]
  },
  {
   "cell_type": "code",
   "execution_count": 26,
   "id": "c841e920",
   "metadata": {},
   "outputs": [],
   "source": [
    "def search(title):\n",
    "    title = clean_title(title)\n",
    "    query_vec = vectorizer.transform([title])\n",
    "    similarity = cosine_similarity(query_vec,tfidf).flatten()\n",
    "    indices =np.argpartition(similarity,-5)[-5:]\n",
    "    results = X2.iloc[indices][::-1]\n",
    "    return results\n",
    "   "
   ]
  },
  {
   "cell_type": "code",
   "execution_count": 31,
   "id": "44ece860",
   "metadata": {},
   "outputs": [],
   "source": [
    " import ipywidgets as widgets\n",
    "from IPython.display import display"
   ]
  },
  {
   "cell_type": "code",
   "execution_count": 32,
   "id": "fa0f2263",
   "metadata": {},
   "outputs": [],
   "source": [
    "movie_input = widgets.Text(\n",
    "    value = \"Avatar\",\n",
    "    description = \"Movie titles\",\n",
    "    disabled = False\n",
    ")\n"
   ]
  },
  {
   "cell_type": "code",
   "execution_count": 33,
   "id": "95284891",
   "metadata": {},
   "outputs": [],
   "source": [
    "movie_list = widgets.Output()"
   ]
  },
  {
   "cell_type": "code",
   "execution_count": 34,
   "id": "e63dcc41",
   "metadata": {},
   "outputs": [],
   "source": [
    "def on_type(data):\n",
    "    with movie_list:\n",
    "        movie_list.clear_output()\n",
    "        title = data[\"new\"]\n",
    "        if len(title)>5:\n",
    "            display(search(title))\n"
   ]
  },
  {
   "cell_type": "code",
   "execution_count": 35,
   "id": "fe22431f",
   "metadata": {},
   "outputs": [
    {
     "data": {
      "application/vnd.jupyter.widget-view+json": {
       "model_id": "d1c1956169c44d69ae331bca5ff2245e",
       "version_major": 2,
       "version_minor": 0
      },
      "text/plain": [
       "Text(value='Avatar', description='Movie titles')"
      ]
     },
     "metadata": {},
     "output_type": "display_data"
    },
    {
     "data": {
      "application/vnd.jupyter.widget-view+json": {
       "model_id": "9098491a43e5477ba852bc64a5b050e8",
       "version_major": 2,
       "version_minor": 0
      },
      "text/plain": [
       "Output()"
      ]
     },
     "metadata": {},
     "output_type": "display_data"
    }
   ],
   "source": [
    "movie_input.observe(on_type, names=\"value\")\n",
    "display(movie_input, movie_list)\n"
   ]
  },
  {
   "cell_type": "code",
   "execution_count": 36,
   "id": "d1b55479",
   "metadata": {},
   "outputs": [],
   "source": [
    "import numpy as np"
   ]
  },
  {
   "cell_type": "code",
   "execution_count": 37,
   "id": "538e2932",
   "metadata": {},
   "outputs": [],
   "source": [
    "movie_ced = pd.read_csv(\"tmdb_5000_credits.csv\")"
   ]
  },
  {
   "cell_type": "code",
   "execution_count": 38,
   "id": "145758b0",
   "metadata": {},
   "outputs": [],
   "source": [
    "cd_col = movie_ced.rename(index=str, columns ={\"movie_id\": \"id\"})"
   ]
  },
  {
   "cell_type": "code",
   "execution_count": 39,
   "id": "e6469560",
   "metadata": {},
   "outputs": [],
   "source": [
    "movie_df_merge = movie_data.merge(cd_col,  on=\"id\")"
   ]
  },
  {
   "cell_type": "code",
   "execution_count": 40,
   "id": "06b2551d",
   "metadata": {},
   "outputs": [],
   "source": [
    "tfv = TfidfVectorizer(min_df = 3, max_features= None,\n",
    "                    strip_accents=\"unicode\", analyzer=\"word\",token_pattern= r'\\w{1,}',\n",
    "                     ngram_range =(1,3),\n",
    "                     stop_words= 'english')\n"
   ]
  },
  {
   "cell_type": "code",
   "execution_count": 41,
   "id": "1c599d4c",
   "metadata": {},
   "outputs": [],
   "source": [
    "X['overview'] = X['overview'].fillna('')"
   ]
  },
  {
   "cell_type": "code",
   "execution_count": 43,
   "id": "7faffc56",
   "metadata": {},
   "outputs": [],
   "source": [
    "tfv_matrix = tfv.fit_transform(X['overview'])"
   ]
  },
  {
   "cell_type": "code",
   "execution_count": 44,
   "id": "d34441ce",
   "metadata": {},
   "outputs": [
    {
     "data": {
      "text/plain": [
       "<4803x10417 sparse matrix of type '<class 'numpy.float64'>'\n",
       "\twith 127220 stored elements in Compressed Sparse Row format>"
      ]
     },
     "execution_count": 44,
     "metadata": {},
     "output_type": "execute_result"
    }
   ],
   "source": [
    "tfv_matrix"
   ]
  },
  {
   "cell_type": "code",
   "execution_count": 45,
   "id": "973af9d8",
   "metadata": {},
   "outputs": [],
   "source": [
    "from sklearn.metrics.pairwise import sigmoid_kernel"
   ]
  },
  {
   "cell_type": "code",
   "execution_count": 46,
   "id": "bb8574e9",
   "metadata": {},
   "outputs": [],
   "source": [
    "sg = sigmoid_kernel(tfv_matrix)"
   ]
  },
  {
   "cell_type": "code",
   "execution_count": 48,
   "id": "596f1557",
   "metadata": {},
   "outputs": [],
   "source": [
    "indices = pd.Series(X.index, index = X[\"original_title\"]).drop_duplicates() "
   ]
  },
  {
   "cell_type": "code",
   "execution_count": 49,
   "id": "8ef64381",
   "metadata": {},
   "outputs": [
    {
     "data": {
      "text/plain": [
       "original_title\n",
       "Avatar                                         0\n",
       "Pirates of the Caribbean: At World's End       1\n",
       "Spectre                                        2\n",
       "The Dark Knight Rises                          3\n",
       "John Carter                                    4\n",
       "                                            ... \n",
       "El Mariachi                                 4798\n",
       "Newlyweds                                   4799\n",
       "Signed, Sealed, Delivered                   4800\n",
       "Shanghai Calling                            4801\n",
       "My Date with Drew                           4802\n",
       "Length: 4803, dtype: int64"
      ]
     },
     "execution_count": 49,
     "metadata": {},
     "output_type": "execute_result"
    }
   ],
   "source": [
    "indices"
   ]
  },
  {
   "cell_type": "code",
   "execution_count": 63,
   "id": "b7b4b0a7",
   "metadata": {},
   "outputs": [],
   "source": [
    "def give_rec(title, sg=sg):\n",
    "    idx = indices[title]\n",
    "    sig_score=list(enumerate(sg[idx]))\n",
    "\n",
    "    sig_score = sorted(sig_score,key=lambda x:x[1], reverse=True)\n",
    "    sig_score= sig_score[1:11]\n",
    "    movie_indices = [i[0] for i in sig_score]\n",
    "    return X['original_title'].iloc[movie_indices]\n"
   ]
  },
  {
   "cell_type": "code",
   "execution_count": 51,
   "id": "99473202",
   "metadata": {},
   "outputs": [],
   "source": [
    "import ipywidgets as widgets\n",
    "from IPython.display import display\n"
   ]
  },
  {
   "cell_type": "code",
   "execution_count": 52,
   "id": "e4c80c4b",
   "metadata": {},
   "outputs": [],
   "source": [
    "movie_input = widgets.Text(\n",
    "    value = \"Avatar\",\n",
    "    description = \"Movie titles\",\n",
    "    disabled = False\n",
    ")\n"
   ]
  },
  {
   "cell_type": "code",
   "execution_count": 53,
   "id": "2fb43d1a",
   "metadata": {},
   "outputs": [],
   "source": [
    "movie_list = widgets.Output()"
   ]
  },
  {
   "cell_type": "code",
   "execution_count": 54,
   "id": "37245627",
   "metadata": {},
   "outputs": [],
   "source": [
    "def on_type(data):\n",
    "    with movie_list:\n",
    "        movie_list.clear_output()\n",
    "        title = data[\"new\"]\n",
    "        if len(title)>5:\n",
    "            display(give_rec(title))\n"
   ]
  },
  {
   "cell_type": "code",
   "execution_count": 66,
   "id": "a83e5fb8",
   "metadata": {},
   "outputs": [
    {
     "data": {
      "application/vnd.jupyter.widget-view+json": {
       "model_id": "aed67cf1ef2040b3b1b0e0effca3f88a",
       "version_major": 2,
       "version_minor": 0
      },
      "text/plain": [
       "Text(value='', description='Movie titles')"
      ]
     },
     "metadata": {},
     "output_type": "display_data"
    },
    {
     "data": {
      "application/vnd.jupyter.widget-view+json": {
       "model_id": "503a2a394cf341cba6e569bf42402419",
       "version_major": 2,
       "version_minor": 0
      },
      "text/plain": [
       "Output()"
      ]
     },
     "metadata": {},
     "output_type": "display_data"
    }
   ],
   "source": [
    "movie_input.observe(on_type, names=\"value\")\n",
    "display(movie_input, movie_list)\n"
   ]
  },
  {
   "cell_type": "code",
   "execution_count": 72,
   "id": "e3f12035",
   "metadata": {},
   "outputs": [
    {
     "data": {
      "text/plain": [
       "299                              Batman Forever\n",
       "65                              The Dark Knight\n",
       "1359                                     Batman\n",
       "428                              Batman Returns\n",
       "2507                                  Slow Burn\n",
       "119                               Batman Begins\n",
       "1181                                        JFK\n",
       "9            Batman v Superman: Dawn of Justice\n",
       "3854    Batman: The Dark Knight Returns, Part 2\n",
       "210                              Batman & Robin\n",
       "Name: original_title, dtype: object"
      ]
     },
     "execution_count": 72,
     "metadata": {},
     "output_type": "execute_result"
    }
   ],
   "source": [
    "give_rec(\"The Dark Knight Rises\")\n"
   ]
  },
  {
   "cell_type": "code",
   "execution_count": 73,
   "id": "e1c50cd5",
   "metadata": {},
   "outputs": [],
   "source": [
    "import ipywidgets as widgets\n",
    "from IPython.display import display\n"
   ]
  },
  {
   "cell_type": "code",
   "execution_count": 74,
   "id": "3d98674c",
   "metadata": {},
   "outputs": [],
   "source": [
    "movie_input = widgets.Text(\n",
    "    value = \"Avatar\",\n",
    "    description = \"Content base\",\n",
    "    disabled = False\n",
    ")\n",
    "\n",
    "movie_list = widgets.Output()\n",
    "\n",
    "def on_type(data):\n",
    "    with movie_list:\n",
    "        movie_list.clear_output()\n",
    "        title = data[\"new\"]\n",
    "        if len(title)>5:\n",
    "            display(give_rec(title))\n",
    "\n"
   ]
  },
  {
   "cell_type": "code",
   "execution_count": 75,
   "id": "09312dcc",
   "metadata": {},
   "outputs": [
    {
     "data": {
      "application/vnd.jupyter.widget-view+json": {
       "model_id": "d28998f0eb6f4ea78a711baf53616108",
       "version_major": 2,
       "version_minor": 0
      },
      "text/plain": [
       "Text(value='Avatar', description='Content base')"
      ]
     },
     "metadata": {},
     "output_type": "display_data"
    },
    {
     "data": {
      "application/vnd.jupyter.widget-view+json": {
       "model_id": "24256bac2ab24af1af130b79fb277643",
       "version_major": 2,
       "version_minor": 0
      },
      "text/plain": [
       "Output()"
      ]
     },
     "metadata": {},
     "output_type": "display_data"
    }
   ],
   "source": [
    "movie_input.observe(on_type, names=\"value\")\n",
    "display(movie_input, movie_list)"
   ]
  },
  {
   "cell_type": "code",
   "execution_count": null,
   "id": "caeaa78b",
   "metadata": {},
   "outputs": [],
   "source": []
  }
 ],
 "metadata": {
  "kernelspec": {
   "display_name": "Python 3 (ipykernel)",
   "language": "python",
   "name": "python3"
  },
  "language_info": {
   "codemirror_mode": {
    "name": "ipython",
    "version": 3
   },
   "file_extension": ".py",
   "mimetype": "text/x-python",
   "name": "python",
   "nbconvert_exporter": "python",
   "pygments_lexer": "ipython3",
   "version": "3.10.11"
  }
 },
 "nbformat": 4,
 "nbformat_minor": 5
}
